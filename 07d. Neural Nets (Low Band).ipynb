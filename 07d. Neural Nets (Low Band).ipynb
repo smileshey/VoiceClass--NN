{
 "cells": [
  {
   "cell_type": "markdown",
   "id": "bb0ef885",
   "metadata": {},
   "source": [
    "# Convolutional Neural Net\n",
    "\n",
    "In this workbook we'll apply a CNN to the image data that was generated in the previous workbook. This workbook is specific to the Low Frequency Spectrograms that were previously generated and is important for the purpose of our analysis as creating a lightweight version of our initial model could be more beneficial in some use cases."
   ]
  },
  {
   "cell_type": "code",
   "execution_count": 12,
   "id": "96f0fc40",
   "metadata": {},
   "outputs": [],
   "source": [
    "import numpy as np\n",
    "import pandas as pd\n",
    "import matplotlib.pyplot as plt\n",
    "import requests\n",
    "import pickle\n",
    "import time\n",
    "import os\n",
    "import json\n",
    "import seaborn as sns\n",
    "import tensorflow as tf\n",
    "import random\n",
    "\n",
    "\n",
    "from pandas import json_normalize\n",
    "from sklearn.model_selection import train_test_split, GridSearchCV\n",
    "from sklearn.pipeline import Pipeline, FeatureUnion\n",
    "from sklearn.naive_bayes import MultinomialNB\n",
    "from sklearn.linear_model import LogisticRegression\n",
    "from sklearn.metrics import confusion_matrix, ConfusionMatrixDisplay\n",
    "from sklearn.feature_extraction.text import CountVectorizer, TfidfVectorizer\n",
    "from sklearn.model_selection import train_test_split, GridSearchCV\n",
    "from sklearn.metrics import confusion_matrix, ConfusionMatrixDisplay, precision_score, recall_score, f1_score,classification_report\n",
    "from sklearn.preprocessing import normalize,StandardScaler,RobustScaler,MinMaxScaler\n",
    "from sklearn.svm import SVC,LinearSVC\n",
    "from sklearn.ensemble import RandomForestClassifier\n",
    "from sklearn.naive_bayes import BernoulliNB\n",
    "from sklearn.compose import ColumnTransformer\n",
    "\n",
    "\n",
    "from tensorflow.keras.models import Sequential\n",
    "from tensorflow.keras.layers import Dense, Dropout, BatchNormalization, Flatten, Conv2D, MaxPooling2D,LeakyReLU\n",
    "from tensorflow.keras.regularizers import l1, l2, l1_l2\n",
    "from tensorflow.keras.optimizers import Adam, SGD, RMSprop\n",
    "from keras.callbacks import EarlyStopping\n",
    "from tensorflow.keras.datasets import mnist, cifar10\n",
    "from tensorflow import keras\n",
    "from tensorflow.keras.layers import Input, Dense, Conv2D, MaxPooling2D, UpSampling2D\n",
    "from tensorflow.keras.models import Model\n",
    "\n",
    "import librosa\n",
    "import librosa.display\n",
    "\n",
    "from scipy.stats import skew"
   ]
  },
  {
   "cell_type": "markdown",
   "id": "0f915a43",
   "metadata": {},
   "source": [
    "### Importing Variables"
   ]
  },
  {
   "cell_type": "code",
   "execution_count": 13,
   "id": "6396d7e5",
   "metadata": {},
   "outputs": [],
   "source": [
    "with open('pickles/Y_low.pkl', 'rb') as f:\n",
    "    Y_low = pickle.load(f)\n",
    "    \n",
    "with open('pickles/X_low.pkl', 'rb') as f:\n",
    "    X_low = pickle.load(f)"
   ]
  },
  {
   "cell_type": "code",
   "execution_count": 14,
   "id": "127974e9",
   "metadata": {},
   "outputs": [
    {
     "data": {
      "text/plain": [
       "(137133, 137133)"
      ]
     },
     "execution_count": 14,
     "metadata": {},
     "output_type": "execute_result"
    }
   ],
   "source": [
    "len(X_low),len(Y_low)"
   ]
  },
  {
   "cell_type": "code",
   "execution_count": 15,
   "id": "dd60d707",
   "metadata": {},
   "outputs": [
    {
     "name": "stdout",
     "output_type": "stream",
     "text": [
      "Unique values: [0 1]\n",
      "Value counts: [88861 48272]\n"
     ]
    }
   ],
   "source": [
    "unique_values, counts = np.unique(Y_low, return_counts=True)\n",
    "\n",
    "print(\"Unique values:\", unique_values)\n",
    "print(\"Value counts:\", counts)"
   ]
  },
  {
   "cell_type": "code",
   "execution_count": 16,
   "id": "70f96f4b",
   "metadata": {},
   "outputs": [],
   "source": [
    "X_train, X_val, y_train, y_val = train_test_split(X_low, Y_low, test_size=0.2, random_state=42, stratify=Y_low)"
   ]
  },
  {
   "cell_type": "markdown",
   "id": "dccfcfcc",
   "metadata": {},
   "source": [
    "### Data Generators\n",
    "\n",
    "We'll feed our data into the model in batches of 32 so that all images aren’t loaded into the kernel at the same time. Within this function, we'll divide X_low by 255, to normalize the data.\n",
    "\n",
    "This operation is split into two seperate generators to prevent data leakage from the training set into the validation set. Since the function has been seperated, each function will only be called when needed."
   ]
  },
  {
   "cell_type": "code",
   "execution_count": 17,
   "id": "28efaa26",
   "metadata": {},
   "outputs": [],
   "source": [
    "def train_data_generator(X_train, y_train, batch_size):\n",
    "    num_train_samples = len(X_train)\n",
    "    train_indices = np.arange(num_train_samples)\n",
    "    np.random.shuffle(train_indices)\n",
    "\n",
    "    while True:\n",
    "        for start_idx in range(0, num_train_samples, batch_size):\n",
    "            end_idx = min(start_idx + batch_size, num_train_samples)\n",
    "            batch_indices = train_indices[start_idx:end_idx]\n",
    "            X_batch_train = X_train[batch_indices]\n",
    "            y_batch_train = y_train[batch_indices]\n",
    "\n",
    "            # Normalize the input data to [0, 1]\n",
    "            X_batch_train = X_batch_train.astype('float32') / 255.0\n",
    "\n",
    "            yield (X_batch_train, y_batch_train)"
   ]
  },
  {
   "cell_type": "code",
   "execution_count": 18,
   "id": "87544dd0",
   "metadata": {},
   "outputs": [],
   "source": [
    "def val_data_generator(X_val, y_val, batch_size):\n",
    "    num_val_samples = len(X_val)\n",
    "    val_indices = np.arange(num_val_samples)\n",
    "    np.random.shuffle(val_indices)\n",
    "\n",
    "    while True:\n",
    "        for start_idx_val in range(0, num_val_samples, batch_size):\n",
    "            end_idx_val = min(start_idx_val + batch_size, num_val_samples)\n",
    "            batch_indices_val = val_indices[start_idx_val:end_idx_val]\n",
    "            X_batch_val = X_val[batch_indices_val]\n",
    "            y_batch_val = y_val[batch_indices_val]\n",
    "\n",
    "            # Normalize the input\n",
    "            X_batch_val = X_batch_val.astype('float32') / 255.0\n",
    "\n",
    "            yield (X_batch_val, y_batch_val)\n",
    "\n",
    "\n",
    "# Define the batch size\n",
    "batch_size = 32\n",
    "\n",
    "train_generator = train_data_generator(X_train, y_train, batch_size)\n",
    "val_generator = val_data_generator(X_val, y_val, batch_size)"
   ]
  },
  {
   "cell_type": "markdown",
   "id": "19ede2e8",
   "metadata": {},
   "source": [
    "### Instantiating the Model\n",
    "\n",
    "Now we can instantiate the model. This time we'll use a slightly different architecture than our previous neural net, as we'll need additional regularization to account for the size of the dataset."
   ]
  },
  {
   "cell_type": "code",
   "execution_count": 60,
   "id": "da6cd92c",
   "metadata": {},
   "outputs": [],
   "source": [
    "model = Sequential([\n",
    "    Conv2D(32, (3, 3), activation=LeakyReLU(alpha=0.1), input_shape=(224, 224, 3)),\n",
    "    MaxPooling2D(2),\n",
    "    Conv2D(64, (3, 3), activation=LeakyReLU(alpha=0.1)),\n",
    "    MaxPooling2D(2),\n",
    "    Flatten(),\n",
    "    Dense(32, activation='relu', kernel_regularizer=l2(0.01)),\n",
    "    Dropout(.2),\n",
    "    Dense(2, activation='sigmoid')\n",
    "])"
   ]
  },
  {
   "cell_type": "code",
   "execution_count": 61,
   "id": "8013f9d2",
   "metadata": {},
   "outputs": [],
   "source": [
    "model.compile(loss='binary_crossentropy', optimizer='adam', metrics=['accuracy'])\n",
    "early_stopping = EarlyStopping(monitor='val_loss', patience=6)"
   ]
  },
  {
   "cell_type": "code",
   "execution_count": 62,
   "id": "193fb9ce",
   "metadata": {},
   "outputs": [
    {
     "name": "stdout",
     "output_type": "stream",
     "text": [
      "Epoch 1/100\n"
     ]
    },
    {
     "name": "stderr",
     "output_type": "stream",
     "text": [
      "2023-04-25 21:57:34.567151: I tensorflow/core/grappler/optimizers/custom_graph_optimizer_registry.cc:113] Plugin optimizer for device_type GPU is enabled.\n"
     ]
    },
    {
     "name": "stdout",
     "output_type": "stream",
     "text": [
      "3428/3428 [==============================] - ETA: 0s - loss: 0.3398 - accuracy: 0.5984"
     ]
    },
    {
     "name": "stderr",
     "output_type": "stream",
     "text": [
      "2023-04-25 22:05:43.944227: I tensorflow/core/grappler/optimizers/custom_graph_optimizer_registry.cc:113] Plugin optimizer for device_type GPU is enabled.\n"
     ]
    },
    {
     "name": "stdout",
     "output_type": "stream",
     "text": [
      "3428/3428 [==============================] - 575s 168ms/step - loss: 0.3398 - accuracy: 0.5984 - val_loss: 0.3396 - val_accuracy: 0.6971\n",
      "Epoch 2/100\n",
      "3428/3428 [==============================] - 706s 206ms/step - loss: 0.2840 - accuracy: 0.7275 - val_loss: 0.2750 - val_accuracy: 0.7315\n",
      "Epoch 3/100\n",
      "3428/3428 [==============================] - 696s 203ms/step - loss: 0.2717 - accuracy: 0.7421 - val_loss: 0.3106 - val_accuracy: 0.6144\n",
      "Epoch 4/100\n",
      "3428/3428 [==============================] - 691s 202ms/step - loss: 0.2676 - accuracy: 0.7540 - val_loss: 0.2839 - val_accuracy: 0.6490\n",
      "Epoch 5/100\n",
      "3428/3428 [==============================] - 688s 201ms/step - loss: 0.2633 - accuracy: 0.7637 - val_loss: 0.2423 - val_accuracy: 0.8439\n",
      "Epoch 6/100\n",
      "3428/3428 [==============================] - 539s 157ms/step - loss: 0.2624 - accuracy: 0.7738 - val_loss: 0.2237 - val_accuracy: 0.7760\n",
      "Epoch 7/100\n",
      "3428/3428 [==============================] - 573s 167ms/step - loss: 0.2593 - accuracy: 0.7741 - val_loss: 0.2249 - val_accuracy: 0.7881\n",
      "Epoch 8/100\n",
      "3428/3428 [==============================] - 596s 174ms/step - loss: 0.2607 - accuracy: 0.7772 - val_loss: 0.2132 - val_accuracy: 0.8249\n",
      "Epoch 9/100\n",
      "3428/3428 [==============================] - 704s 205ms/step - loss: 0.2576 - accuracy: 0.7837 - val_loss: 0.2284 - val_accuracy: 0.7103\n",
      "Epoch 10/100\n",
      "3428/3428 [==============================] - 765s 223ms/step - loss: 0.2597 - accuracy: 0.7825 - val_loss: 0.2321 - val_accuracy: 0.7080\n",
      "Epoch 11/100\n",
      "3428/3428 [==============================] - 725s 212ms/step - loss: 0.2543 - accuracy: 0.7847 - val_loss: 0.2147 - val_accuracy: 0.8050\n",
      "Epoch 12/100\n",
      "3428/3428 [==============================] - 605s 176ms/step - loss: 0.2544 - accuracy: 0.7956 - val_loss: 0.2452 - val_accuracy: 0.8504\n",
      "Epoch 13/100\n",
      "3428/3428 [==============================] - 592s 173ms/step - loss: 0.2540 - accuracy: 0.7825 - val_loss: 0.2443 - val_accuracy: 0.8348\n",
      "Epoch 14/100\n",
      "3428/3428 [==============================] - 622s 181ms/step - loss: 0.2531 - accuracy: 0.7730 - val_loss: 0.2527 - val_accuracy: 0.9305\n"
     ]
    }
   ],
   "source": [
    "history = model.fit(\n",
    "    train_generator,\n",
    "    steps_per_epoch=len(X_train) // batch_size,\n",
    "    validation_data=val_generator,\n",
    "    validation_steps=len(X_val) // batch_size,\n",
    "    epochs=100,\n",
    "    verbose=1,\n",
    "    callbacks=[early_stopping]\n",
    ")"
   ]
  },
  {
   "cell_type": "code",
   "execution_count": 63,
   "id": "f3d0a389",
   "metadata": {},
   "outputs": [
    {
     "name": "stdout",
     "output_type": "stream",
     "text": [
      "Final validation accuracy: 0.9304623603820801\n"
     ]
    }
   ],
   "source": [
    "val_acc = history.history['val_accuracy'][-1]\n",
    "print(\"Final validation accuracy:\", val_acc)"
   ]
  },
  {
   "cell_type": "code",
   "execution_count": 64,
   "id": "5811c02b",
   "metadata": {},
   "outputs": [
    {
     "data": {
      "image/png": "[encoded data removed]",
      "text/plain": [
       "<Figure size 800x600 with 1 Axes>"
      ]
     },
     "metadata": {},
     "output_type": "display_data"
    }
   ],
   "source": [
    "yellow = '#f8c84c'\n",
    "grey = '#4F4F4F'\n",
    "background = '#e8e4e4'\n",
    "\n",
    "# Create the figure with the grey background\n",
    "fig = plt.figure(figsize=(8, 6), facecolor=background)\n",
    "\n",
    "# Set the background color of the plot area to grey\n",
    "ax = fig.add_subplot(111)\n",
    "ax.set_facecolor(background)\n",
    "\n",
    "# Plot the data with the yellow-grey color scheme\n",
    "plt.plot(history.epoch, history.history['loss'], color=yellow, label='Training Loss')\n",
    "plt.plot(history.epoch, history.history['val_loss'], color=grey, label='Validation Loss')\n",
    "plt.yscale('linear')\n",
    "plt.title('Training & Validation Loss')\n",
    "plt.xlabel('Epochs')\n",
    "plt.ylabel('Loss')\n",
    "plt.legend()\n",
    "\n",
    "# Show the plot\n",
    "plt.show()"
   ]
  },
  {
   "cell_type": "code",
   "execution_count": null,
   "id": "5806f52c",
   "metadata": {},
   "outputs": [],
   "source": [
    "with open('pickles/model.pkl', 'wb') as f:\n",
    "    pickle.dump(model, f)"
   ]
  }
 ],
 "metadata": {
  "kernelspec": {
   "display_name": "Python 3 (ipykernel)",
   "language": "python",
   "name": "python3"
  },
  "language_info": {
   "codemirror_mode": {
    "name": "ipython",
    "version": 3
   },
   "file_extension": ".py",
   "mimetype": "text/x-python",
   "name": "python",
   "nbconvert_exporter": "python",
   "pygments_lexer": "ipython3",
   "version": "3.9.16"
  }
 },
 "nbformat": 4,
 "nbformat_minor": 5
}
