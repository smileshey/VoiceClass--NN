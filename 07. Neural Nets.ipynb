{
 "cells": [
  {
   "cell_type": "markdown",
   "id": "bb0ef885",
   "metadata": {},
   "source": [
    "# Convolutional Neural Net\n",
    "\n",
    "In this workbook we'll apply a CNN to the image data that was generated in the previous workbook."
   ]
  },
  {
   "cell_type": "code",
   "execution_count": 2,
   "id": "96f0fc40",
   "metadata": {},
   "outputs": [],
   "source": [
    "import numpy as np\n",
    "import pandas as pd\n",
    "import matplotlib.pyplot as plt\n",
    "import requests\n",
    "import pickle\n",
    "import time\n",
    "import os\n",
    "import json\n",
    "import seaborn as sns\n",
    "import tensorflow as tf\n",
    "import random\n",
    "\n",
    "\n",
    "from pandas import json_normalize\n",
    "from sklearn.model_selection import train_test_split, GridSearchCV\n",
    "from sklearn.pipeline import Pipeline, FeatureUnion\n",
    "from sklearn.naive_bayes import MultinomialNB\n",
    "from sklearn.linear_model import LogisticRegression\n",
    "from sklearn.metrics import confusion_matrix, ConfusionMatrixDisplay\n",
    "from sklearn.feature_extraction.text import CountVectorizer, TfidfVectorizer\n",
    "from sklearn.model_selection import train_test_split, GridSearchCV\n",
    "from sklearn.metrics import confusion_matrix, ConfusionMatrixDisplay, precision_score, recall_score, f1_score,classification_report\n",
    "from sklearn.preprocessing import normalize,StandardScaler,RobustScaler,MinMaxScaler\n",
    "from sklearn.svm import SVC,LinearSVC\n",
    "from sklearn.ensemble import RandomForestClassifier\n",
    "from sklearn.naive_bayes import BernoulliNB\n",
    "from sklearn.compose import ColumnTransformer\n",
    "\n",
    "\n",
    "from tensorflow.keras.models import Sequential\n",
    "from tensorflow.keras.layers import Dense, Dropout, BatchNormalization, Flatten, Conv2D, MaxPooling2D,LeakyReLU\n",
    "from tensorflow.keras.regularizers import l1, l2, l1_l2\n",
    "from tensorflow.keras.optimizers import Adam, SGD, RMSprop\n",
    "from keras.callbacks import EarlyStopping\n",
    "from tensorflow.keras.datasets import mnist, cifar10\n",
    "from tensorflow import keras\n",
    "\n",
    "\n",
    "\n",
    "\n",
    "import librosa\n",
    "import librosa.display\n",
    "\n",
    "from scipy.stats import skew"
   ]
  },
  {
   "cell_type": "markdown",
   "id": "0f915a43",
   "metadata": {},
   "source": [
    "### Importing Variables"
   ]
  },
  {
   "cell_type": "code",
   "execution_count": 3,
   "id": "6396d7e5",
   "metadata": {},
   "outputs": [],
   "source": [
    "with open('pickles/y.pkl', 'rb') as f:\n",
    "    y = pickle.load(f)\n",
    "    \n",
    "with open('pickles/X.pkl', 'rb') as f:\n",
    "    X = pickle.load(f)"
   ]
  },
  {
   "cell_type": "markdown",
   "id": "f4dcccf5",
   "metadata": {},
   "source": [
    "### Random Sampling"
   ]
  },
  {
   "cell_type": "code",
   "execution_count": 4,
   "id": "127974e9",
   "metadata": {},
   "outputs": [
    {
     "data": {
      "text/plain": [
       "(36301, 36301)"
      ]
     },
     "execution_count": 4,
     "metadata": {},
     "output_type": "execute_result"
    }
   ],
   "source": [
    "len(X),len(y)"
   ]
  },
  {
   "cell_type": "markdown",
   "id": "15647497",
   "metadata": {},
   "source": [
    "### Train-test Split"
   ]
  },
  {
   "cell_type": "code",
   "execution_count": 5,
   "id": "f5df1df8",
   "metadata": {},
   "outputs": [],
   "source": [
    "X = np.array(X).astype('float32') / 255.0\n",
    "y = np.array(y)"
   ]
  },
  {
   "cell_type": "code",
   "execution_count": 6,
   "id": "aa29ed37",
   "metadata": {},
   "outputs": [
    {
     "data": {
      "text/plain": [
       "224"
      ]
     },
     "execution_count": 6,
     "metadata": {},
     "output_type": "execute_result"
    }
   ],
   "source": [
    "X[0][0].shape[0]"
   ]
  },
  {
   "cell_type": "code",
   "execution_count": 7,
   "id": "3f37a089",
   "metadata": {},
   "outputs": [],
   "source": [
    "X_train, X_val, y_train, y_val = train_test_split(X, y, test_size=0.2, random_state=42)"
   ]
  },
  {
   "cell_type": "code",
   "execution_count": 8,
   "id": "2a57a9a8",
   "metadata": {},
   "outputs": [
    {
     "data": {
      "text/plain": [
       "(29040, 224, 224, 3)"
      ]
     },
     "execution_count": 8,
     "metadata": {},
     "output_type": "execute_result"
    }
   ],
   "source": [
    "X_train.shape"
   ]
  },
  {
   "cell_type": "code",
   "execution_count": 9,
   "id": "f302cf9f",
   "metadata": {},
   "outputs": [],
   "source": [
    "X_train = X_train.reshape(X_train.shape[0], 224, 224, 3)\n",
    "X_val = X_val.reshape(X_val.shape[0], 224, 224, 3)"
   ]
  },
  {
   "cell_type": "code",
   "execution_count": 10,
   "id": "d71abbc5",
   "metadata": {},
   "outputs": [
    {
     "data": {
      "text/plain": [
       "[]"
      ]
     },
     "execution_count": 10,
     "metadata": {},
     "output_type": "execute_result"
    }
   ],
   "source": [
    "tf.config.list_physical_devices('mps')"
   ]
  },
  {
   "cell_type": "code",
   "execution_count": 68,
   "id": "e9203bef",
   "metadata": {},
   "outputs": [],
   "source": [
    "model = Sequential([\n",
    "    Conv2D(32, (3, 3), strides=(2, 2), activation=LeakyReLU(alpha=0.1), input_shape=(X_train.shape[1:])),\n",
    "    MaxPooling2D(2),\n",
    "    Flatten(),\n",
    "    Dense(64, activation='relu'),\n",
    "    Dropout(.2),\n",
    "    Dense(2, activation='sigmoid')\n",
    "])"
   ]
  },
  {
   "cell_type": "code",
   "execution_count": 69,
   "id": "088581ec",
   "metadata": {},
   "outputs": [],
   "source": [
    "model.compile(\n",
    "    loss='sparse_categorical_crossentropy',\n",
    "    optimizer='adam',\n",
    "    metrics=['accuracy']\n",
    ")"
   ]
  },
  {
   "cell_type": "code",
   "execution_count": 70,
   "id": "8adfef46",
   "metadata": {},
   "outputs": [],
   "source": [
    "early_stopping = EarlyStopping(monitor='val_loss', patience=6)"
   ]
  },
  {
   "cell_type": "code",
   "execution_count": 71,
   "id": "11bb58b9",
   "metadata": {},
   "outputs": [
    {
     "name": "stdout",
     "output_type": "stream",
     "text": [
      "Epoch 1/100\n"
     ]
    },
    {
     "name": "stderr",
     "output_type": "stream",
     "text": [
      "2023-04-17 06:03:07.871525: I tensorflow/core/grappler/optimizers/custom_graph_optimizer_registry.cc:113] Plugin optimizer for device_type GPU is enabled.\n"
     ]
    },
    {
     "name": "stdout",
     "output_type": "stream",
     "text": [
      "908/908 [==============================] - ETA: 0s - loss: 0.5905 - accuracy: 0.7325"
     ]
    },
    {
     "name": "stderr",
     "output_type": "stream",
     "text": [
      "2023-04-17 06:03:57.395355: I tensorflow/core/grappler/optimizers/custom_graph_optimizer_registry.cc:113] Plugin optimizer for device_type GPU is enabled.\n"
     ]
    },
    {
     "name": "stdout",
     "output_type": "stream",
     "text": [
      "908/908 [==============================] - 60s 65ms/step - loss: 0.5905 - accuracy: 0.7325 - val_loss: 0.5691 - val_accuracy: 0.7438\n",
      "Epoch 2/100\n",
      "908/908 [==============================] - 57s 63ms/step - loss: 0.5796 - accuracy: 0.7343 - val_loss: 0.5667 - val_accuracy: 0.7444\n",
      "Epoch 3/100\n",
      "908/908 [==============================] - 57s 63ms/step - loss: 0.5772 - accuracy: 0.7356 - val_loss: 0.5672 - val_accuracy: 0.7445\n",
      "Epoch 4/100\n",
      "908/908 [==============================] - 57s 62ms/step - loss: 0.5825 - accuracy: 0.7359 - val_loss: 0.5750 - val_accuracy: 0.7415\n",
      "Epoch 5/100\n",
      "908/908 [==============================] - 56s 62ms/step - loss: 0.5760 - accuracy: 0.7362 - val_loss: 0.5669 - val_accuracy: 0.7436\n",
      "Epoch 6/100\n",
      "908/908 [==============================] - 57s 62ms/step - loss: 0.5736 - accuracy: 0.7368 - val_loss: 0.5690 - val_accuracy: 0.7447\n",
      "Epoch 7/100\n",
      "908/908 [==============================] - 57s 63ms/step - loss: 0.5722 - accuracy: 0.7371 - val_loss: 0.5674 - val_accuracy: 0.7440\n",
      "Epoch 8/100\n",
      "908/908 [==============================] - 57s 63ms/step - loss: 0.5759 - accuracy: 0.7366 - val_loss: 0.5681 - val_accuracy: 0.7443\n"
     ]
    }
   ],
   "source": [
    "history = model.fit(\n",
    "    X_train,\n",
    "    y_train,\n",
    "    validation_data=(X_val, y_val),\n",
    "    batch_size = 32,\n",
    "    epochs = 100,\n",
    "    verbose= 1,\n",
    "    callbacks=[early_stopping]\n",
    ")"
   ]
  },
  {
   "cell_type": "code",
   "execution_count": 67,
   "id": "5811c02b",
   "metadata": {},
   "outputs": [
    {
     "data": {
      "image/png": "[encoded data removed]",
      "text/plain": [
       "<Figure size 800x600 with 1 Axes>"
      ]
     },
     "metadata": {},
     "output_type": "display_data"
    }
   ],
   "source": [
    "yellow = '#f8c84c'\n",
    "grey = '#4F4F4F'\n",
    "background = '#e8e4e4'\n",
    "\n",
    "# Create the figure with the grey background\n",
    "fig = plt.figure(figsize=(8, 6), facecolor=background)\n",
    "\n",
    "# Set the background color of the plot area to grey\n",
    "ax = fig.add_subplot(111)\n",
    "ax.set_facecolor(background)\n",
    "\n",
    "# Plot the data with the yellow-grey color scheme\n",
    "plt.plot(history.epoch, history.history['loss'], color=yellow, label='Training Loss')\n",
    "plt.plot(history.epoch, history.history['val_loss'], color=grey, label='Validation Loss')\n",
    "plt.yscale('linear')\n",
    "plt.title('Training & Validation Loss')\n",
    "plt.xlabel('Epochs')\n",
    "plt.ylabel('Loss')\n",
    "plt.legend()\n",
    "\n",
    "# Show the plot\n",
    "plt.show()"
   ]
  },
  {
   "cell_type": "code",
   "execution_count": null,
   "id": "5806f52c",
   "metadata": {},
   "outputs": [],
   "source": [
    "with open('pickles/model.pkl', 'wb') as f:\n",
    "    pickle.dump(model, f)"
   ]
  },
  {
   "cell_type": "code",
   "execution_count": null,
   "id": "a0144e55",
   "metadata": {},
   "outputs": [],
   "source": []
  }
 ],
 "metadata": {
  "kernelspec": {
   "display_name": "Python 3 (ipykernel)",
   "language": "python",
   "name": "python3"
  },
  "language_info": {
   "codemirror_mode": {
    "name": "ipython",
    "version": 3
   },
   "file_extension": ".py",
   "mimetype": "text/x-python",
   "name": "python",
   "nbconvert_exporter": "python",
   "pygments_lexer": "ipython3",
   "version": "3.9.16"
  }
 },
 "nbformat": 4,
 "nbformat_minor": 5
}
