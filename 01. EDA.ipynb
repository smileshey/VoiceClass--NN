{
 "cells": [
  {
   "cell_type": "markdown",
   "id": "f7cffeb0",
   "metadata": {},
   "source": [
    "# EDA\n",
    "\n",
    "This section is dedeicated to exploring the metadata of the raw data provided in our dataset. This will help us get a sense for which features are provided and how the data was collected.\n",
    "\n",
    "In the previous section we had laid out all of the features within this dataset, however I'll use this section to seperate out the most important features and evaluate the data we are given."
   ]
  },
  {
   "cell_type": "code",
   "execution_count": 3,
   "id": "221eca09",
   "metadata": {},
   "outputs": [],
   "source": [
    "import numpy as np\n",
    "import pandas as pd\n",
    "import matplotlib.pyplot as plt\n",
    "import requests\n",
    "import pickle\n",
    "import time\n",
    "import os\n",
    "import json\n",
    "import shutil\n",
    "import datetime\n",
    "\n",
    "from matplotlib.colors import LinearSegmentedColormap"
   ]
  },
  {
   "cell_type": "markdown",
   "id": "c3eaed12",
   "metadata": {},
   "source": [
    "## SOMOS Dataset"
   ]
  },
  {
   "cell_type": "markdown",
   "id": "c52f6359",
   "metadata": {},
   "source": [
    "### Importing data"
   ]
  },
  {
   "cell_type": "code",
   "execution_count": 3,
   "id": "34abf6b5",
   "metadata": {},
   "outputs": [
    {
     "data": {
      "text/html": [
       "<div>\n",
       "<style scoped>\n",
       "    .dataframe tbody tr th:only-of-type {\n",
       "        vertical-align: middle;\n",
       "    }\n",
       "\n",
       "    .dataframe tbody tr th {\n",
       "        vertical-align: top;\n",
       "    }\n",
       "\n",
       "    .dataframe thead th {\n",
       "        text-align: right;\n",
       "    }\n",
       "</style>\n",
       "<table border=\"1\" class=\"dataframe\">\n",
       "  <thead>\n",
       "    <tr style=\"text-align: right;\">\n",
       "      <th></th>\n",
       "      <th>utteranceId</th>\n",
       "      <th>choice</th>\n",
       "      <th>sentenceId</th>\n",
       "      <th>systemId</th>\n",
       "      <th>modelId</th>\n",
       "      <th>testpageId</th>\n",
       "      <th>locale</th>\n",
       "      <th>listenerId</th>\n",
       "      <th>isNative</th>\n",
       "      <th>wrongValidation</th>\n",
       "      <th>lowNatural</th>\n",
       "      <th>sameScores</th>\n",
       "      <th>highSynthetic</th>\n",
       "      <th>clean</th>\n",
       "      <th>listenerReliability</th>\n",
       "    </tr>\n",
       "  </thead>\n",
       "  <tbody>\n",
       "    <tr>\n",
       "      <th>0</th>\n",
       "      <td>novel_2007_0098_015</td>\n",
       "      <td>4</td>\n",
       "      <td>novel_2007_0098</td>\n",
       "      <td>15</td>\n",
       "      <td>m1</td>\n",
       "      <td>0</td>\n",
       "      <td>gb</td>\n",
       "      <td>KEXM49572020611127</td>\n",
       "      <td>1</td>\n",
       "      <td>1</td>\n",
       "      <td>1</td>\n",
       "      <td>1</td>\n",
       "      <td>1</td>\n",
       "      <td>1</td>\n",
       "      <td>1.0</td>\n",
       "    </tr>\n",
       "    <tr>\n",
       "      <th>1</th>\n",
       "      <td>reportorial_2011_0119_088</td>\n",
       "      <td>3</td>\n",
       "      <td>reportorial_2011_0119</td>\n",
       "      <td>88</td>\n",
       "      <td>m4</td>\n",
       "      <td>0</td>\n",
       "      <td>gb</td>\n",
       "      <td>KEXM49572020611127</td>\n",
       "      <td>1</td>\n",
       "      <td>1</td>\n",
       "      <td>1</td>\n",
       "      <td>1</td>\n",
       "      <td>1</td>\n",
       "      <td>1</td>\n",
       "      <td>1.0</td>\n",
       "    </tr>\n",
       "    <tr>\n",
       "      <th>2</th>\n",
       "      <td>gt_LJ017-0230_000</td>\n",
       "      <td>5</td>\n",
       "      <td>LJ017-0230</td>\n",
       "      <td>0</td>\n",
       "      <td>m0</td>\n",
       "      <td>0</td>\n",
       "      <td>gb</td>\n",
       "      <td>KEXM49572020611127</td>\n",
       "      <td>1</td>\n",
       "      <td>1</td>\n",
       "      <td>1</td>\n",
       "      <td>1</td>\n",
       "      <td>1</td>\n",
       "      <td>1</td>\n",
       "      <td>1.0</td>\n",
       "    </tr>\n",
       "  </tbody>\n",
       "</table>\n",
       "</div>"
      ],
      "text/plain": [
       "                 utteranceId  choice             sentenceId  systemId modelId  \\\n",
       "0        novel_2007_0098_015       4        novel_2007_0098        15      m1   \n",
       "1  reportorial_2011_0119_088       3  reportorial_2011_0119        88      m4   \n",
       "2          gt_LJ017-0230_000       5             LJ017-0230         0      m0   \n",
       "\n",
       "   testpageId locale          listenerId  isNative  wrongValidation  \\\n",
       "0           0     gb  KEXM49572020611127         1                1   \n",
       "1           0     gb  KEXM49572020611127         1                1   \n",
       "2           0     gb  KEXM49572020611127         1                1   \n",
       "\n",
       "   lowNatural  sameScores  highSynthetic  clean  listenerReliability  \n",
       "0           1           1              1      1                  1.0  \n",
       "1           1           1              1      1                  1.0  \n",
       "2           1           1              1      1                  1.0  "
      ]
     },
     "execution_count": 3,
     "metadata": {},
     "output_type": "execute_result"
    }
   ],
   "source": [
    "# SOMOS dataset\n",
    "df_ai = pd.DataFrame(pd.read_csv('datasets/somos/raw_scores_with_metadata/raw_scores.tsv',sep=\"\\t\"))\n",
    "df_ai.head(3)"
   ]
  },
  {
   "cell_type": "markdown",
   "id": "c56a2d63",
   "metadata": {},
   "source": [
    "### Utterance Id\n",
    "\n",
    "The utterance ID in the SOMOS dataset refers to a unique identifier assigned to each individual spoken utterance in the dataset. Within the dataset, there multiple recordings for each individual written scipt."
   ]
  },
  {
   "cell_type": "code",
   "execution_count": 4,
   "id": "6c64b7d3",
   "metadata": {},
   "outputs": [
    {
     "data": {
      "text/plain": [
       "207611    LJ002-0181_033\n",
       "207654    LJ002-0181_033\n",
       "207724    LJ002-0181_033\n",
       "207750    LJ002-0181_033\n",
       "125861    LJ002-0181_033\n",
       "Name: utteranceId, dtype: object"
      ]
     },
     "execution_count": 4,
     "metadata": {},
     "output_type": "execute_result"
    }
   ],
   "source": [
    "df_ai['utteranceId'].sort_values().head(5)"
   ]
  },
  {
   "cell_type": "markdown",
   "id": "3c4ac6b7",
   "metadata": {},
   "source": [
    "For each utterance shown above, there are 3 components which are shown as DDDD-NNNN-III\n",
    "\n",
    "1. The first string, DDDD, corresponds to the base dataset that the SOMOS dataset used to create their audio files. In the case of LJ002, this corresponds to the LibriSpeech dataset and the 002 corresponds to the specific speaker for that file.\n",
    "2. The second string, NNNN, corresponds with the section of script used as the source material for each utterance. Some of the datasets use audiobooks and this string would correspond to a section or chapter used.\n",
    "3. The third string, III, indicates the utterance within the individual section provided within the second string"
   ]
  },
  {
   "cell_type": "markdown",
   "id": "9fa7a2bd",
   "metadata": {},
   "source": [
    "### Model ID and System ID\n",
    "\n",
    "These features are of a particular importance as they indicate whether the utterance is computer generated or human. 'modelId' set will be our target variable for this analysis.\n",
    "\n",
    "A modelId of 'm0' corresponds with human speech"
   ]
  },
  {
   "cell_type": "code",
   "execution_count": 5,
   "id": "45a65c90",
   "metadata": {},
   "outputs": [
    {
     "data": {
      "text/plain": [
       "17855"
      ]
     },
     "execution_count": 5,
     "metadata": {},
     "output_type": "execute_result"
    }
   ],
   "source": [
    "df_ai[df_ai['modelId'] == 'm0'].value_counts().sum()"
   ]
  },
  {
   "cell_type": "markdown",
   "id": "5f73edad",
   "metadata": {},
   "source": [
    "The SOMOS dataset contains six different models (m0 through m6) that are used to generate audio data. m0 corresponds to human speech, while m1 through m6 correspond to different types of synthesized audio."
   ]
  },
  {
   "cell_type": "code",
   "execution_count": 6,
   "id": "a5ff777d",
   "metadata": {},
   "outputs": [
    {
     "data": {
      "text/plain": [
       "m5    128385\n",
       "m4    116149\n",
       "m3     73253\n",
       "m1     32131\n",
       "m0     17855\n",
       "m2      7182\n",
       "Name: modelId, dtype: int64"
      ]
     },
     "execution_count": 6,
     "metadata": {},
     "output_type": "execute_result"
    }
   ],
   "source": [
    "df_ai['modelId'].value_counts()"
   ]
  },
  {
   "cell_type": "code",
   "execution_count": 34,
   "id": "4b777a79",
   "metadata": {},
   "outputs": [
    {
     "data": {
      "image/png": "[encoded data removed]",
      "text/plain": [
       "<Figure size 640x480 with 1 Axes>"
      ]
     },
     "metadata": {},
     "output_type": "display_data"
    }
   ],
   "source": [
    "yellow = '#f8c84c'\n",
    "grey = '#4F4F4F'\n",
    "background = '#e8e4e4'\n",
    "\n",
    "# Create the color map\n",
    "colors = [grey, yellow]\n",
    "cmap = LinearSegmentedColormap.from_list('my_palette', colors)\n",
    "\n",
    "modelIds = sorted(df_ai['modelId'].unique())\n",
    "\n",
    "# Plot the histogram with custom colors and horizontal bars\n",
    "fig = plt.figure(facecolor=background)\n",
    "ax = plt.gca()\n",
    "ax.hist(df_ai['modelId'], bins=len(modelIds), color=colors[1], edgecolor=grey, linewidth=2)\n",
    "ax.set_facecolor(background)\n",
    "\n",
    "# Set the xticks and xticklabels to show the original ModelIds and the frequency of each bin\n",
    "xtick_positions = np.arange(len(modelIds))\n",
    "xtick_labels = sorted(df_ai['modelId'].unique())\n",
    "ax.set_xticks(xtick_positions)\n",
    "ax.set_xticklabels(xtick_labels, rotation=90, ha='right')\n",
    "plt.title('Histogram of ModelId')\n",
    "plt.xlabel('ModelId')\n",
    "plt.ylabel('Frequency')\n",
    "plt.show()"
   ]
  },
  {
   "cell_type": "markdown",
   "id": "990218a2",
   "metadata": {},
   "source": [
    "The main difference between the models is the method used to synthesize the audio. Each model represents a different approach to audio synthesis, which can produce audio with different characteristics, such as speech quality, naturalness, and variability.\n",
    "\n",
    "For example, m1 is a concatenative synthesis model, which uses pre-recorded speech segments to generate new speech. m2 is a neural vocoder model, which uses a neural network to model the spectral envelope of speech signals. m3 is a waveform concatenation model, which uses a modified version of the m1 model that concatenates speech segments at the waveform level.\n",
    "\n",
    "The other models (m4 through m6) are variations or combinations of these basic approaches. For example, m4 is a hybrid concatenative-neural vocoder model that uses both concatenative and neural vocoder techniques to synthesize speech.\n",
    "\n",
    "Which the models are numbered sequentially, the m1 model is not the predecessor to m2. Many the models were developed in parallel and they each represent a different path to modelling the available audio data"
   ]
  },
  {
   "cell_type": "markdown",
   "id": "96d8fb84",
   "metadata": {},
   "source": [
    "## Mean Opinion Score\n",
    "\n",
    "A subset of the data provided within the SOMOS dataset is the Mean Opinion Score data (MOS) which has been provided in a seperate csv than the data shown above.\n",
    "\n",
    "MOS is a metric that is commonly used in the field of speech quality evaluation to measure the overall quality of a speech signal, as perceived by human listeners.\n",
    "\n",
    "To obtain a MOS rating, a group of human listeners are asked to listen to a speech signal and rate its overall quality on a scale of 1 to 5, with 1 indicating poor quality and 5 indicating excellent quality. The MOS is then calculated as the arithmetic mean of these individual ratings.\n",
    "\n",
    "In the SOMOS dataset, MOS scores are provided for each utterance, indicating the perceived quality of the speech signal in that recording. MOS scores can be useful for evaluating the performance of speech recognition models, as they provide a measure of the accuracy and quality of the recognized speech output."
   ]
  },
  {
   "cell_type": "markdown",
   "id": "7ca58e33",
   "metadata": {},
   "source": [
    "### Importing MOS Scores"
   ]
  },
  {
   "cell_type": "code",
   "execution_count": 8,
   "id": "e26741bc",
   "metadata": {},
   "outputs": [],
   "source": [
    "df_mos = pd.read_csv('datasets/somos/training_files/split1/full/train_system.csv')"
   ]
  },
  {
   "cell_type": "code",
   "execution_count": 9,
   "id": "0f71eca3",
   "metadata": {},
   "outputs": [
    {
     "data": {
      "text/html": [
       "<div>\n",
       "<style scoped>\n",
       "    .dataframe tbody tr th:only-of-type {\n",
       "        vertical-align: middle;\n",
       "    }\n",
       "\n",
       "    .dataframe tbody tr th {\n",
       "        vertical-align: top;\n",
       "    }\n",
       "\n",
       "    .dataframe thead th {\n",
       "        text-align: right;\n",
       "    }\n",
       "</style>\n",
       "<table border=\"1\" class=\"dataframe\">\n",
       "  <thead>\n",
       "    <tr style=\"text-align: right;\">\n",
       "      <th></th>\n",
       "      <th>systemId</th>\n",
       "      <th>mean</th>\n",
       "    </tr>\n",
       "  </thead>\n",
       "  <tbody>\n",
       "    <tr>\n",
       "      <th>0</th>\n",
       "      <td>0</td>\n",
       "      <td>4.079747</td>\n",
       "    </tr>\n",
       "    <tr>\n",
       "      <th>1</th>\n",
       "      <td>3</td>\n",
       "      <td>3.683823</td>\n",
       "    </tr>\n",
       "    <tr>\n",
       "      <th>2</th>\n",
       "      <td>4</td>\n",
       "      <td>3.705058</td>\n",
       "    </tr>\n",
       "    <tr>\n",
       "      <th>3</th>\n",
       "      <td>5</td>\n",
       "      <td>3.505492</td>\n",
       "    </tr>\n",
       "    <tr>\n",
       "      <th>4</th>\n",
       "      <td>6</td>\n",
       "      <td>3.574285</td>\n",
       "    </tr>\n",
       "  </tbody>\n",
       "</table>\n",
       "</div>"
      ],
      "text/plain": [
       "   systemId      mean\n",
       "0         0  4.079747\n",
       "1         3  3.683823\n",
       "2         4  3.705058\n",
       "3         5  3.505492\n",
       "4         6  3.574285"
      ]
     },
     "execution_count": 9,
     "metadata": {},
     "output_type": "execute_result"
    }
   ],
   "source": [
    "df_mos.head(5)"
   ]
  },
  {
   "cell_type": "markdown",
   "id": "47cae47d",
   "metadata": {},
   "source": [
    "To use this data, we'll join the MOS values on the systemId that we had previously discussed"
   ]
  },
  {
   "cell_type": "code",
   "execution_count": 35,
   "id": "8c27ba50",
   "metadata": {},
   "outputs": [
    {
     "data": {
      "image/png": "[encoded data removed]",
      "text/plain": [
       "<Figure size 640x480 with 1 Axes>"
      ]
     },
     "metadata": {},
     "output_type": "display_data"
    }
   ],
   "source": [
    "yellow = '#f8c84c'\n",
    "grey = '#4F4F4F'\n",
    "background = '#e8e4e4'\n",
    "\n",
    "# Create the color map\n",
    "colors = [grey, yellow]\n",
    "cmap = LinearSegmentedColormap.from_list('my_palette', colors)\n",
    "\n",
    "# Plot the histogram with custom colors\n",
    "fig = plt.figure(facecolor=background)\n",
    "ax = plt.gca()\n",
    "ax.hist(df_mos['mean'], bins=30, color=colors[1], edgecolor=grey, linewidth=2)\n",
    "ax.set_facecolor(background)\n",
    "\n",
    "plt.title('Histogram of MOS Mean')\n",
    "plt.xlabel('MOS Mean')\n",
    "plt.ylabel('Frequency')\n",
    "plt.show()"
   ]
  },
  {
   "cell_type": "markdown",
   "id": "2cdc994e",
   "metadata": {},
   "source": [
    "The distribution of the MOS values are less than normal and there is a gap within the range, indicating the majority of utterances were given a score between 3.3 and 3.7. Very few utterances were given a perfect score (5) or a score below a 3.\n",
    "\n",
    "This tells us that we will likely not have to clean the audio before evaluating it. If there were a significant number of MOS values below 3, it would be important to clean the audio or to remove those utterances from the dataset entirely."
   ]
  },
  {
   "cell_type": "markdown",
   "id": "53c81bfa",
   "metadata": {},
   "source": [
    "### Merging MOS & Raw Score Data"
   ]
  },
  {
   "cell_type": "code",
   "execution_count": 11,
   "id": "5e83f124",
   "metadata": {},
   "outputs": [],
   "source": [
    "df = pd.merge(df_ai,df_mos, on = 'systemId')"
   ]
  },
  {
   "cell_type": "code",
   "execution_count": 12,
   "id": "8e12aea3",
   "metadata": {},
   "outputs": [
    {
     "data": {
      "text/html": [
       "<div>\n",
       "<style scoped>\n",
       "    .dataframe tbody tr th:only-of-type {\n",
       "        vertical-align: middle;\n",
       "    }\n",
       "\n",
       "    .dataframe tbody tr th {\n",
       "        vertical-align: top;\n",
       "    }\n",
       "\n",
       "    .dataframe thead th {\n",
       "        text-align: right;\n",
       "    }\n",
       "</style>\n",
       "<table border=\"1\" class=\"dataframe\">\n",
       "  <thead>\n",
       "    <tr style=\"text-align: right;\">\n",
       "      <th></th>\n",
       "      <th>utteranceId</th>\n",
       "      <th>choice</th>\n",
       "      <th>sentenceId</th>\n",
       "      <th>systemId</th>\n",
       "      <th>modelId</th>\n",
       "      <th>testpageId</th>\n",
       "      <th>locale</th>\n",
       "      <th>listenerId</th>\n",
       "      <th>isNative</th>\n",
       "      <th>wrongValidation</th>\n",
       "      <th>lowNatural</th>\n",
       "      <th>sameScores</th>\n",
       "      <th>highSynthetic</th>\n",
       "      <th>clean</th>\n",
       "      <th>listenerReliability</th>\n",
       "      <th>modelId_order</th>\n",
       "      <th>MOS</th>\n",
       "    </tr>\n",
       "  </thead>\n",
       "  <tbody>\n",
       "    <tr>\n",
       "      <th>0</th>\n",
       "      <td>novel_2007_0098_015</td>\n",
       "      <td>4</td>\n",
       "      <td>novel_2007_0098</td>\n",
       "      <td>15</td>\n",
       "      <td>m1</td>\n",
       "      <td>0</td>\n",
       "      <td>gb</td>\n",
       "      <td>KEXM49572020611127</td>\n",
       "      <td>1</td>\n",
       "      <td>1</td>\n",
       "      <td>1</td>\n",
       "      <td>1</td>\n",
       "      <td>1</td>\n",
       "      <td>1</td>\n",
       "      <td>1.00</td>\n",
       "      <td>1</td>\n",
       "      <td>3.590156</td>\n",
       "    </tr>\n",
       "    <tr>\n",
       "      <th>1</th>\n",
       "      <td>novel_2007_0098_015</td>\n",
       "      <td>2</td>\n",
       "      <td>novel_2007_0098</td>\n",
       "      <td>15</td>\n",
       "      <td>m1</td>\n",
       "      <td>0</td>\n",
       "      <td>gb</td>\n",
       "      <td>ONJP34545176526892</td>\n",
       "      <td>0</td>\n",
       "      <td>1</td>\n",
       "      <td>1</td>\n",
       "      <td>1</td>\n",
       "      <td>1</td>\n",
       "      <td>1</td>\n",
       "      <td>1.00</td>\n",
       "      <td>1</td>\n",
       "      <td>3.590156</td>\n",
       "    </tr>\n",
       "    <tr>\n",
       "      <th>2</th>\n",
       "      <td>novel_2007_0098_015</td>\n",
       "      <td>2</td>\n",
       "      <td>novel_2007_0098</td>\n",
       "      <td>15</td>\n",
       "      <td>m1</td>\n",
       "      <td>0</td>\n",
       "      <td>gb</td>\n",
       "      <td>BRHE82716530388427</td>\n",
       "      <td>1</td>\n",
       "      <td>1</td>\n",
       "      <td>1</td>\n",
       "      <td>1</td>\n",
       "      <td>1</td>\n",
       "      <td>1</td>\n",
       "      <td>1.00</td>\n",
       "      <td>1</td>\n",
       "      <td>3.590156</td>\n",
       "    </tr>\n",
       "    <tr>\n",
       "      <th>3</th>\n",
       "      <td>novel_2007_0098_015</td>\n",
       "      <td>5</td>\n",
       "      <td>novel_2007_0098</td>\n",
       "      <td>15</td>\n",
       "      <td>m1</td>\n",
       "      <td>0</td>\n",
       "      <td>gb</td>\n",
       "      <td>IJWO22856390758743</td>\n",
       "      <td>1</td>\n",
       "      <td>1</td>\n",
       "      <td>1</td>\n",
       "      <td>1</td>\n",
       "      <td>1</td>\n",
       "      <td>1</td>\n",
       "      <td>1.00</td>\n",
       "      <td>1</td>\n",
       "      <td>3.590156</td>\n",
       "    </tr>\n",
       "    <tr>\n",
       "      <th>4</th>\n",
       "      <td>novel_2007_0098_015</td>\n",
       "      <td>5</td>\n",
       "      <td>novel_2007_0098</td>\n",
       "      <td>15</td>\n",
       "      <td>m1</td>\n",
       "      <td>0</td>\n",
       "      <td>gb</td>\n",
       "      <td>BFXL60735888172229</td>\n",
       "      <td>1</td>\n",
       "      <td>0</td>\n",
       "      <td>0</td>\n",
       "      <td>1</td>\n",
       "      <td>0</td>\n",
       "      <td>0</td>\n",
       "      <td>0.46</td>\n",
       "      <td>1</td>\n",
       "      <td>3.590156</td>\n",
       "    </tr>\n",
       "    <tr>\n",
       "      <th>...</th>\n",
       "      <td>...</td>\n",
       "      <td>...</td>\n",
       "      <td>...</td>\n",
       "      <td>...</td>\n",
       "      <td>...</td>\n",
       "      <td>...</td>\n",
       "      <td>...</td>\n",
       "      <td>...</td>\n",
       "      <td>...</td>\n",
       "      <td>...</td>\n",
       "      <td>...</td>\n",
       "      <td>...</td>\n",
       "      <td>...</td>\n",
       "      <td>...</td>\n",
       "      <td>...</td>\n",
       "      <td>...</td>\n",
       "      <td>...</td>\n",
       "    </tr>\n",
       "    <tr>\n",
       "      <th>339203</th>\n",
       "      <td>reportorial_2011_0141_160</td>\n",
       "      <td>3</td>\n",
       "      <td>reportorial_2011_0141</td>\n",
       "      <td>160</td>\n",
       "      <td>m5</td>\n",
       "      <td>993</td>\n",
       "      <td>us</td>\n",
       "      <td>SQZP20987165412056</td>\n",
       "      <td>1</td>\n",
       "      <td>1</td>\n",
       "      <td>1</td>\n",
       "      <td>1</td>\n",
       "      <td>0</td>\n",
       "      <td>0</td>\n",
       "      <td>0.71</td>\n",
       "      <td>5</td>\n",
       "      <td>3.436844</td>\n",
       "    </tr>\n",
       "    <tr>\n",
       "      <th>339204</th>\n",
       "      <td>reportorial_2011_0141_160</td>\n",
       "      <td>4</td>\n",
       "      <td>reportorial_2011_0141</td>\n",
       "      <td>160</td>\n",
       "      <td>m5</td>\n",
       "      <td>993</td>\n",
       "      <td>us</td>\n",
       "      <td>VOPC28548555753770</td>\n",
       "      <td>1</td>\n",
       "      <td>1</td>\n",
       "      <td>1</td>\n",
       "      <td>1</td>\n",
       "      <td>0</td>\n",
       "      <td>0</td>\n",
       "      <td>0.29</td>\n",
       "      <td>5</td>\n",
       "      <td>3.436844</td>\n",
       "    </tr>\n",
       "    <tr>\n",
       "      <th>339205</th>\n",
       "      <td>reportorial_2011_0141_160</td>\n",
       "      <td>4</td>\n",
       "      <td>reportorial_2011_0141</td>\n",
       "      <td>160</td>\n",
       "      <td>m5</td>\n",
       "      <td>993</td>\n",
       "      <td>us</td>\n",
       "      <td>QQXJ36618242908678</td>\n",
       "      <td>1</td>\n",
       "      <td>1</td>\n",
       "      <td>0</td>\n",
       "      <td>1</td>\n",
       "      <td>0</td>\n",
       "      <td>0</td>\n",
       "      <td>0.32</td>\n",
       "      <td>5</td>\n",
       "      <td>3.436844</td>\n",
       "    </tr>\n",
       "    <tr>\n",
       "      <th>339206</th>\n",
       "      <td>reportorial_2011_0141_160</td>\n",
       "      <td>2</td>\n",
       "      <td>reportorial_2011_0141</td>\n",
       "      <td>160</td>\n",
       "      <td>m5</td>\n",
       "      <td>993</td>\n",
       "      <td>us</td>\n",
       "      <td>KRQC01203593359590</td>\n",
       "      <td>1</td>\n",
       "      <td>1</td>\n",
       "      <td>1</td>\n",
       "      <td>1</td>\n",
       "      <td>1</td>\n",
       "      <td>1</td>\n",
       "      <td>0.44</td>\n",
       "      <td>5</td>\n",
       "      <td>3.436844</td>\n",
       "    </tr>\n",
       "    <tr>\n",
       "      <th>339207</th>\n",
       "      <td>reportorial_2011_0141_160</td>\n",
       "      <td>3</td>\n",
       "      <td>reportorial_2011_0141</td>\n",
       "      <td>160</td>\n",
       "      <td>m5</td>\n",
       "      <td>993</td>\n",
       "      <td>us</td>\n",
       "      <td>TJGK49462169107356</td>\n",
       "      <td>1</td>\n",
       "      <td>1</td>\n",
       "      <td>1</td>\n",
       "      <td>1</td>\n",
       "      <td>1</td>\n",
       "      <td>1</td>\n",
       "      <td>0.42</td>\n",
       "      <td>5</td>\n",
       "      <td>3.436844</td>\n",
       "    </tr>\n",
       "  </tbody>\n",
       "</table>\n",
       "<p>339208 rows × 17 columns</p>\n",
       "</div>"
      ],
      "text/plain": [
       "                      utteranceId  choice             sentenceId  systemId  \\\n",
       "0             novel_2007_0098_015       4        novel_2007_0098        15   \n",
       "1             novel_2007_0098_015       2        novel_2007_0098        15   \n",
       "2             novel_2007_0098_015       2        novel_2007_0098        15   \n",
       "3             novel_2007_0098_015       5        novel_2007_0098        15   \n",
       "4             novel_2007_0098_015       5        novel_2007_0098        15   \n",
       "...                           ...     ...                    ...       ...   \n",
       "339203  reportorial_2011_0141_160       3  reportorial_2011_0141       160   \n",
       "339204  reportorial_2011_0141_160       4  reportorial_2011_0141       160   \n",
       "339205  reportorial_2011_0141_160       4  reportorial_2011_0141       160   \n",
       "339206  reportorial_2011_0141_160       2  reportorial_2011_0141       160   \n",
       "339207  reportorial_2011_0141_160       3  reportorial_2011_0141       160   \n",
       "\n",
       "       modelId  testpageId locale          listenerId  isNative  \\\n",
       "0           m1           0     gb  KEXM49572020611127         1   \n",
       "1           m1           0     gb  ONJP34545176526892         0   \n",
       "2           m1           0     gb  BRHE82716530388427         1   \n",
       "3           m1           0     gb  IJWO22856390758743         1   \n",
       "4           m1           0     gb  BFXL60735888172229         1   \n",
       "...        ...         ...    ...                 ...       ...   \n",
       "339203      m5         993     us  SQZP20987165412056         1   \n",
       "339204      m5         993     us  VOPC28548555753770         1   \n",
       "339205      m5         993     us  QQXJ36618242908678         1   \n",
       "339206      m5         993     us  KRQC01203593359590         1   \n",
       "339207      m5         993     us  TJGK49462169107356         1   \n",
       "\n",
       "        wrongValidation  lowNatural  sameScores  highSynthetic  clean  \\\n",
       "0                     1           1           1              1      1   \n",
       "1                     1           1           1              1      1   \n",
       "2                     1           1           1              1      1   \n",
       "3                     1           1           1              1      1   \n",
       "4                     0           0           1              0      0   \n",
       "...                 ...         ...         ...            ...    ...   \n",
       "339203                1           1           1              0      0   \n",
       "339204                1           1           1              0      0   \n",
       "339205                1           0           1              0      0   \n",
       "339206                1           1           1              1      1   \n",
       "339207                1           1           1              1      1   \n",
       "\n",
       "        listenerReliability  modelId_order       MOS  \n",
       "0                      1.00              1  3.590156  \n",
       "1                      1.00              1  3.590156  \n",
       "2                      1.00              1  3.590156  \n",
       "3                      1.00              1  3.590156  \n",
       "4                      0.46              1  3.590156  \n",
       "...                     ...            ...       ...  \n",
       "339203                 0.71              5  3.436844  \n",
       "339204                 0.29              5  3.436844  \n",
       "339205                 0.32              5  3.436844  \n",
       "339206                 0.44              5  3.436844  \n",
       "339207                 0.42              5  3.436844  \n",
       "\n",
       "[339208 rows x 17 columns]"
      ]
     },
     "execution_count": 12,
     "metadata": {},
     "output_type": "execute_result"
    }
   ],
   "source": [
    "df = df.rename(columns = {'mean':'MOS'}) \n",
    "df"
   ]
  },
  {
   "cell_type": "markdown",
   "id": "37af3b14",
   "metadata": {},
   "source": [
    "## Mozilla Dataset\n",
    "\n",
    "Similar to how we worked through the Somos data, we'll go through several of the metadata columns provided in the Mozilla dataset. Most importantly, I'd like to look into the demographic data to see how balanced/skewed our data is in terms of demographic input."
   ]
  },
  {
   "cell_type": "code",
   "execution_count": 13,
   "id": "c1f36043",
   "metadata": {},
   "outputs": [],
   "source": [
    "df_mozilla = pd.DataFrame(pd.read_csv('datasets/Metadata/Mozilla1.tsv',sep=\"\\t\"))"
   ]
  },
  {
   "cell_type": "markdown",
   "id": "3f19ed66",
   "metadata": {},
   "source": [
    "### Column Descriptions\n",
    "\n",
    "Within the metadata, there are several groups of features that we will look at:\n",
    "\n",
    "- Audio descriptors\n",
    "- Community Descriptors\n",
    "- Person descriptors\n",
    "\n",
    "Each group will be discussed below"
   ]
  },
  {
   "cell_type": "markdown",
   "id": "4ce2a9e3",
   "metadata": {},
   "source": [
    "#### Audio Descriptors\n",
    "\n",
    "There are three features within the metadata that are used to describe the audio for each file. Client ID, Path, and sentence.\n",
    "\n",
    "The Client ID is anonymous unique ID given to the person who provided their voice for this project, while the path represents the individual audio file path. For each Client ID and path the data also includes a 'sentence' feature, which is the sentence that was uttered by each individual client.\n",
    "\n",
    "\n",
    "For our purposes, we'll use the path to organize our data and keep the sentence data as it may provide interesting information regarding the sentiment of the corpus.\n"
   ]
  },
  {
   "cell_type": "markdown",
   "id": "39d49aee",
   "metadata": {},
   "source": [
    "#### Community Descriptors\n",
    "\n",
    "There are two features within the metadata that are used to describe the community input for each file:  up_votes and down_votes.\n",
    "\n",
    "These features describe the community's input regarding each audio file and represent the community validation of each file. Since we are including the validated metadata and we will be individually validating the remaining data, we'll drop these features."
   ]
  },
  {
   "cell_type": "markdown",
   "id": "34f2e0aa",
   "metadata": {},
   "source": [
    "#### Person Descriptors\n",
    "\n",
    "There are several features within the metadata that are used to describe the characteristics of each speaker in each audio file. These features describe the 'age', 'sex','accent', and 'locale' of the speakers.\n",
    "\n",
    "These features could be beneficial in identifying weaknesses in our model and so we will leave them in."
   ]
  },
  {
   "cell_type": "markdown",
   "id": "25ccc4e9",
   "metadata": {},
   "source": [
    "### Distribution of Data\n",
    "\n",
    "Within the above descriptors, I'd like to look into the distributions of each feature to see what kinds of skew is inherent in our data."
   ]
  },
  {
   "cell_type": "code",
   "execution_count": 92,
   "id": "0db8bb2f",
   "metadata": {},
   "outputs": [
    {
     "data": {
      "text/html": [
       "<div>\n",
       "<style scoped>\n",
       "    .dataframe tbody tr th:only-of-type {\n",
       "        vertical-align: middle;\n",
       "    }\n",
       "\n",
       "    .dataframe tbody tr th {\n",
       "        vertical-align: top;\n",
       "    }\n",
       "\n",
       "    .dataframe thead th {\n",
       "        text-align: right;\n",
       "    }\n",
       "</style>\n",
       "<table border=\"1\" class=\"dataframe\">\n",
       "  <thead>\n",
       "    <tr style=\"text-align: right;\">\n",
       "      <th></th>\n",
       "      <th>client_id</th>\n",
       "      <th>path</th>\n",
       "      <th>sentence</th>\n",
       "      <th>up_votes</th>\n",
       "      <th>down_votes</th>\n",
       "      <th>age</th>\n",
       "      <th>gender</th>\n",
       "      <th>accents</th>\n",
       "      <th>locale</th>\n",
       "      <th>segment</th>\n",
       "    </tr>\n",
       "  </thead>\n",
       "  <tbody>\n",
       "    <tr>\n",
       "      <th>0</th>\n",
       "      <td>f6fbe981d1f5d3994dd03ab50a5819c5417b2fd0b9a753...</td>\n",
       "      <td>common_voice_en_31832759.mp3</td>\n",
       "      <td>The Danish steamer was sunk and the submarine ...</td>\n",
       "      <td>0</td>\n",
       "      <td>0</td>\n",
       "      <td>teens</td>\n",
       "      <td>female</td>\n",
       "      <td>NaN</td>\n",
       "      <td>en</td>\n",
       "      <td>NaN</td>\n",
       "    </tr>\n",
       "    <tr>\n",
       "      <th>1</th>\n",
       "      <td>f6fbe981d1f5d3994dd03ab50a5819c5417b2fd0b9a753...</td>\n",
       "      <td>common_voice_en_31832760.mp3</td>\n",
       "      <td>The reviewer thought the stories to be highly ...</td>\n",
       "      <td>1</td>\n",
       "      <td>0</td>\n",
       "      <td>teens</td>\n",
       "      <td>female</td>\n",
       "      <td>NaN</td>\n",
       "      <td>en</td>\n",
       "      <td>NaN</td>\n",
       "    </tr>\n",
       "    <tr>\n",
       "      <th>2</th>\n",
       "      <td>f6fbe981d1f5d3994dd03ab50a5819c5417b2fd0b9a753...</td>\n",
       "      <td>common_voice_en_31832761.mp3</td>\n",
       "      <td>Music composed by Somapala Rathnayake.</td>\n",
       "      <td>1</td>\n",
       "      <td>0</td>\n",
       "      <td>teens</td>\n",
       "      <td>female</td>\n",
       "      <td>NaN</td>\n",
       "      <td>en</td>\n",
       "      <td>NaN</td>\n",
       "    </tr>\n",
       "  </tbody>\n",
       "</table>\n",
       "</div>"
      ],
      "text/plain": [
       "                                           client_id  \\\n",
       "0  f6fbe981d1f5d3994dd03ab50a5819c5417b2fd0b9a753...   \n",
       "1  f6fbe981d1f5d3994dd03ab50a5819c5417b2fd0b9a753...   \n",
       "2  f6fbe981d1f5d3994dd03ab50a5819c5417b2fd0b9a753...   \n",
       "\n",
       "                           path  \\\n",
       "0  common_voice_en_31832759.mp3   \n",
       "1  common_voice_en_31832760.mp3   \n",
       "2  common_voice_en_31832761.mp3   \n",
       "\n",
       "                                            sentence  up_votes  down_votes  \\\n",
       "0  The Danish steamer was sunk and the submarine ...         0           0   \n",
       "1  The reviewer thought the stories to be highly ...         1           0   \n",
       "2             Music composed by Somapala Rathnayake.         1           0   \n",
       "\n",
       "     age  gender accents locale  segment  \n",
       "0  teens  female     NaN     en      NaN  \n",
       "1  teens  female     NaN     en      NaN  \n",
       "2  teens  female     NaN     en      NaN  "
      ]
     },
     "execution_count": 92,
     "metadata": {},
     "output_type": "execute_result"
    }
   ],
   "source": [
    "df_mozilla.head(3)"
   ]
  },
  {
   "cell_type": "code",
   "execution_count": 93,
   "id": "cf427669",
   "metadata": {},
   "outputs": [
    {
     "data": {
      "text/plain": [
       "0           teens\n",
       "1           teens\n",
       "2           teens\n",
       "3           teens\n",
       "4           teens\n",
       "           ...   \n",
       "52785     sixties\n",
       "52786    thirties\n",
       "52787    thirties\n",
       "52788    thirties\n",
       "52789    thirties\n",
       "Name: age, Length: 26323, dtype: object"
      ]
     },
     "execution_count": 93,
     "metadata": {},
     "output_type": "execute_result"
    }
   ],
   "source": [
    "df_mozilla['age'].dropna()"
   ]
  },
  {
   "cell_type": "code",
   "execution_count": 94,
   "id": "bb878a69",
   "metadata": {},
   "outputs": [],
   "source": [
    "age_map = {\n",
    "    'teens': '13-19',\n",
    "    'twenties': '20-29',\n",
    "    'thirties': '30-39',\n",
    "    'forties': '40-49',\n",
    "    'fifties': '50-59',\n",
    "    'sixties': '60-69',\n",
    "    'seventies': '70-79',\n",
    "    'eighties': '80-89'\n",
    "}\n",
    "\n",
    "df_mozilla['age_range'] = df_mozilla['age'].map(age_map)"
   ]
  },
  {
   "cell_type": "code",
   "execution_count": 95,
   "id": "f4414489",
   "metadata": {},
   "outputs": [
    {
     "data": {
      "image/png": "[encoded data removed]",
      "text/plain": [
       "<Figure size 640x480 with 1 Axes>"
      ]
     },
     "metadata": {},
     "output_type": "display_data"
    },
    {
     "data": {
      "image/png": "[encoded data removed]",
      "text/plain": [
       "<Figure size 640x480 with 1 Axes>"
      ]
     },
     "metadata": {},
     "output_type": "display_data"
    }
   ],
   "source": [
    "gender_counts = df_mozilla['gender'].value_counts()\n",
    "plt.bar(gender_counts.index, gender_counts.values)\n",
    "plt.title('Gender Distribution')\n",
    "plt.xlabel('Gender')\n",
    "plt.ylabel('Count')\n",
    "plt.show()\n",
    "\n",
    "# Age bar chart\n",
    "age_counts = df_mozilla['age_range'].value_counts()\n",
    "plt.bar(age_counts.index, age_counts.values)\n",
    "plt.title('Age Distribution')\n",
    "plt.xlabel('Age')\n",
    "plt.ylabel('Count')\n",
    "plt.show()"
   ]
  },
  {
   "cell_type": "markdown",
   "id": "b19788f2",
   "metadata": {},
   "source": [
    "Our Mozilla dataset is heavily skewed towards younger men, generally. However the age/gender skew is less prominent amoungst the younger generation."
   ]
  },
  {
   "cell_type": "code",
   "execution_count": 114,
   "id": "19d07912",
   "metadata": {},
   "outputs": [
    {
     "data": {
      "text/html": [
       "<div>\n",
       "<style scoped>\n",
       "    .dataframe tbody tr th:only-of-type {\n",
       "        vertical-align: middle;\n",
       "    }\n",
       "\n",
       "    .dataframe tbody tr th {\n",
       "        vertical-align: top;\n",
       "    }\n",
       "\n",
       "    .dataframe thead th {\n",
       "        text-align: right;\n",
       "    }\n",
       "</style>\n",
       "<table border=\"1\" class=\"dataframe\">\n",
       "  <thead>\n",
       "    <tr style=\"text-align: right;\">\n",
       "      <th></th>\n",
       "      <th>client_id</th>\n",
       "      <th>path</th>\n",
       "      <th>sentence</th>\n",
       "      <th>up_votes</th>\n",
       "      <th>down_votes</th>\n",
       "      <th>age</th>\n",
       "      <th>gender</th>\n",
       "      <th>accents</th>\n",
       "      <th>locale</th>\n",
       "      <th>segment</th>\n",
       "    </tr>\n",
       "  </thead>\n",
       "  <tbody>\n",
       "    <tr>\n",
       "      <th>0</th>\n",
       "      <td>f6fbe981d1f5d3994dd03ab50a5819c5417b2fd0b9a753...</td>\n",
       "      <td>common_voice_en_31832759.mp3</td>\n",
       "      <td>The Danish steamer was sunk and the submarine ...</td>\n",
       "      <td>0</td>\n",
       "      <td>0</td>\n",
       "      <td>teens</td>\n",
       "      <td>female</td>\n",
       "      <td>NaN</td>\n",
       "      <td>en</td>\n",
       "      <td>NaN</td>\n",
       "    </tr>\n",
       "    <tr>\n",
       "      <th>1</th>\n",
       "      <td>f6fbe981d1f5d3994dd03ab50a5819c5417b2fd0b9a753...</td>\n",
       "      <td>common_voice_en_31832760.mp3</td>\n",
       "      <td>The reviewer thought the stories to be highly ...</td>\n",
       "      <td>1</td>\n",
       "      <td>0</td>\n",
       "      <td>teens</td>\n",
       "      <td>female</td>\n",
       "      <td>NaN</td>\n",
       "      <td>en</td>\n",
       "      <td>NaN</td>\n",
       "    </tr>\n",
       "    <tr>\n",
       "      <th>2</th>\n",
       "      <td>f6fbe981d1f5d3994dd03ab50a5819c5417b2fd0b9a753...</td>\n",
       "      <td>common_voice_en_31832761.mp3</td>\n",
       "      <td>Music composed by Somapala Rathnayake.</td>\n",
       "      <td>1</td>\n",
       "      <td>0</td>\n",
       "      <td>teens</td>\n",
       "      <td>female</td>\n",
       "      <td>NaN</td>\n",
       "      <td>en</td>\n",
       "      <td>NaN</td>\n",
       "    </tr>\n",
       "  </tbody>\n",
       "</table>\n",
       "</div>"
      ],
      "text/plain": [
       "                                           client_id  \\\n",
       "0  f6fbe981d1f5d3994dd03ab50a5819c5417b2fd0b9a753...   \n",
       "1  f6fbe981d1f5d3994dd03ab50a5819c5417b2fd0b9a753...   \n",
       "2  f6fbe981d1f5d3994dd03ab50a5819c5417b2fd0b9a753...   \n",
       "\n",
       "                           path  \\\n",
       "0  common_voice_en_31832759.mp3   \n",
       "1  common_voice_en_31832760.mp3   \n",
       "2  common_voice_en_31832761.mp3   \n",
       "\n",
       "                                            sentence  up_votes  down_votes  \\\n",
       "0  The Danish steamer was sunk and the submarine ...         0           0   \n",
       "1  The reviewer thought the stories to be highly ...         1           0   \n",
       "2             Music composed by Somapala Rathnayake.         1           0   \n",
       "\n",
       "     age  gender accents locale  segment  \n",
       "0  teens  female     NaN     en      NaN  \n",
       "1  teens  female     NaN     en      NaN  \n",
       "2  teens  female     NaN     en      NaN  "
      ]
     },
     "execution_count": 114,
     "metadata": {},
     "output_type": "execute_result"
    }
   ],
   "source": [
    "df_mozilla.head(3)"
   ]
  },
  {
   "cell_type": "code",
   "execution_count": 153,
   "id": "f8e02b37",
   "metadata": {},
   "outputs": [
    {
     "data": {
      "text/plain": [
       "male      16354\n",
       "female     9273\n",
       "other       617\n",
       "Name: gender, dtype: int64"
      ]
     },
     "execution_count": 153,
     "metadata": {},
     "output_type": "execute_result"
    }
   ],
   "source": [
    "df_mozilla['gender'].value_counts()"
   ]
  },
  {
   "cell_type": "code",
   "execution_count": 154,
   "id": "d622294d",
   "metadata": {},
   "outputs": [],
   "source": [
    "df_mozilla['accents'] = df_mozilla['accents'].dropna()"
   ]
  },
  {
   "cell_type": "code",
   "execution_count": 155,
   "id": "880e7143",
   "metadata": {},
   "outputs": [],
   "source": [
    "df_mozilla['accents'] = df_mozilla['accents'].str.replace('German English,Non native speaker', 'German English')"
   ]
  },
  {
   "cell_type": "code",
   "execution_count": 156,
   "id": "4bbde961",
   "metadata": {},
   "outputs": [],
   "source": [
    "accent_counts = df_mozilla['accents'].value_counts()"
   ]
  },
  {
   "cell_type": "code",
   "execution_count": 157,
   "id": "ad9b17de",
   "metadata": {},
   "outputs": [
    {
     "data": {
      "text/plain": [
       "United States English                                                   11487\n",
       "England English                                                          4159\n",
       "German English                                                           1858\n",
       "Canadian English                                                         1816\n",
       "Scottish English                                                         1282\n",
       "                                                                        ...  \n",
       "Mild Northern England English                                               3\n",
       "United States English,Silicon Valley Native                                 2\n",
       "Выраженный украинский акцент                                                2\n",
       "Good                                                                        1\n",
       "United States English,Scottish English,Irish English,England English        1\n",
       "Name: accents, Length: 135, dtype: int64"
      ]
     },
     "execution_count": 157,
     "metadata": {},
     "output_type": "execute_result"
    }
   ],
   "source": [
    "accent_counts"
   ]
  },
  {
   "cell_type": "code",
   "execution_count": 163,
   "id": "4d809796",
   "metadata": {},
   "outputs": [
    {
     "data": {
      "image/png": "[encoded data removed]",
      "text/plain": [
       "<Figure size 640x480 with 1 Axes>"
      ]
     },
     "metadata": {},
     "output_type": "display_data"
    }
   ],
   "source": [
    "yellow = '#f8c84c'\n",
    "grey = '#4F4F4F'\n",
    "background = '#e8e4e4'\n",
    "\n",
    "# Create the color map\n",
    "colors = [grey, yellow]\n",
    "cmap = LinearSegmentedColormap.from_list('my_palette', colors)\n",
    "\n",
    "accent_counts = df_mozilla['accents'].value_counts().head(5)\n",
    "# Group the data by accent and gender\n",
    "grouped = df_mozilla.groupby(['accents', 'gender']).size().unstack()\n",
    "grouped = grouped.loc[:, ['female', 'male']]\n",
    "\n",
    "fig = plt.figure(facecolor=background)\n",
    "ax = fig.add_subplot(111, facecolor=background)\n",
    "grouped.loc[accent_counts.index].plot(kind='barh', stacked=True,color=colors, ax=ax)\n",
    "ax.set_title('Accent and Gender')\n",
    "ax.set_xlabel('Count')\n",
    "ax.set_ylabel('Accent')\n",
    "plt.show()\n"
   ]
  },
  {
   "cell_type": "code",
   "execution_count": 142,
   "id": "d3dc96ae",
   "metadata": {},
   "outputs": [
    {
     "data": {
      "image/png": "[encoded data removed]",
      "text/plain": [
       "<Figure size 640x480 with 1 Axes>"
      ]
     },
     "metadata": {},
     "output_type": "display_data"
    }
   ],
   "source": [
    "yellow = '#f8c84c'\n",
    "grey = '#4F4F4F'\n",
    "background = '#e8e4e4'\n",
    "\n",
    "# Create the color map\n",
    "colors = [grey, yellow]\n",
    "cmap = LinearSegmentedColormap.from_list('my_palette', colors)\n",
    "\n",
    "# create a sample dataframe\n",
    "age_ranges = ['18-24', '25-34', '35-44', '45-54', '55-64', '65+']\n",
    "genders = ['female', 'male']\n",
    "counts = np.random.randint(50, 200, size=(6, 2))\n",
    "df_mozilla = pd.DataFrame(counts, index=age_ranges, columns=genders)\n",
    "\n",
    "fig = plt.figure(facecolor=background)\n",
    "ax = fig.add_subplot(111)\n",
    "df_mozilla.plot(kind='barh', stacked=True, color=colors, ax=ax)\n",
    "ax.set_title('Sex Distribution by Age')\n",
    "ax.set_xlabel('Count')\n",
    "ax.set_ylabel('Age')\n",
    "ax.set_facecolor(background)\n",
    "plt.show()\n"
   ]
  },
  {
   "cell_type": "code",
   "execution_count": 23,
   "id": "f3b0e194",
   "metadata": {},
   "outputs": [
    {
     "data": {
      "text/html": [
       "<div>\n",
       "<style scoped>\n",
       "    .dataframe tbody tr th:only-of-type {\n",
       "        vertical-align: middle;\n",
       "    }\n",
       "\n",
       "    .dataframe tbody tr th {\n",
       "        vertical-align: top;\n",
       "    }\n",
       "\n",
       "    .dataframe thead th {\n",
       "        text-align: right;\n",
       "    }\n",
       "</style>\n",
       "<table border=\"1\" class=\"dataframe\">\n",
       "  <thead>\n",
       "    <tr style=\"text-align: right;\">\n",
       "      <th></th>\n",
       "      <th>female</th>\n",
       "      <th>male</th>\n",
       "    </tr>\n",
       "  </thead>\n",
       "  <tbody>\n",
       "    <tr>\n",
       "      <th>18-24</th>\n",
       "      <td>116</td>\n",
       "      <td>98</td>\n",
       "    </tr>\n",
       "    <tr>\n",
       "      <th>25-34</th>\n",
       "      <td>183</td>\n",
       "      <td>102</td>\n",
       "    </tr>\n",
       "    <tr>\n",
       "      <th>35-44</th>\n",
       "      <td>181</td>\n",
       "      <td>139</td>\n",
       "    </tr>\n",
       "    <tr>\n",
       "      <th>45-54</th>\n",
       "      <td>166</td>\n",
       "      <td>101</td>\n",
       "    </tr>\n",
       "    <tr>\n",
       "      <th>55-64</th>\n",
       "      <td>95</td>\n",
       "      <td>171</td>\n",
       "    </tr>\n",
       "    <tr>\n",
       "      <th>65+</th>\n",
       "      <td>104</td>\n",
       "      <td>66</td>\n",
       "    </tr>\n",
       "  </tbody>\n",
       "</table>\n",
       "</div>"
      ],
      "text/plain": [
       "       female  male\n",
       "18-24     116    98\n",
       "25-34     183   102\n",
       "35-44     181   139\n",
       "45-54     166   101\n",
       "55-64      95   171\n",
       "65+       104    66"
      ]
     },
     "execution_count": 23,
     "metadata": {},
     "output_type": "execute_result"
    }
   ],
   "source": [
    "df_mozilla"
   ]
  },
  {
   "cell_type": "code",
   "execution_count": 85,
   "id": "02ebcf70",
   "metadata": {},
   "outputs": [
    {
     "data": {
      "image/png": "[encoded data removed]",
      "text/plain": [
       "<Figure size 640x480 with 1 Axes>"
      ]
     },
     "metadata": {},
     "output_type": "display_data"
    }
   ],
   "source": [
    "yellow = '#f8c84c'\n",
    "grey = '#4F4F4F'\n",
    "background = '#e8e4e4'\n",
    "\n",
    "datasets = ['mozilla', 'somos', 'libriiTTS', 'Aptly']\n",
    "human = [60000, 1000, 10000, 30000]\n",
    "synthetic = [0, 19000, 0, 30000]\n",
    "total_syn = sum(synthetic) \n",
    "total_hum = sum(human)\n",
    "\n",
    "# Create the color map\n",
    "colors = [yellow, grey]\n",
    "cmap = LinearSegmentedColormap.from_list('my_palette', colors)\n",
    "\n",
    "fig, ax = plt.subplots(facecolor=background)\n",
    "ax.set_facecolor(background)\n",
    "\n",
    "ax.barh(datasets, synthetic, color=colors[0], edgecolor=background, linewidth=2, label='Synthetic')\n",
    "ax.barh(datasets, human, left=synthetic, color=colors[1], edgecolor=background, linewidth=2, label='Human')\n",
    "ax.barh('Total', [total_syn, total_hum], left=[0, total_syn], color=colors, edgecolor=background, linewidth=2)\n",
    "\n",
    "plt.title('Composition of Datasets')\n",
    "plt.xlabel('Number of files')\n",
    "plt.ylabel('Datasets')\n",
    "\n",
    "handles, labels = ax.get_legend_handles_labels()\n",
    "handles = [handles[1], handles[0]]\n",
    "labels = [ labels[1], labels[0]]\n",
    "ax.legend(handles, labels, loc='upper center', bbox_to_anchor=(0.5, -0.15), ncol=3)\n",
    "\n",
    "plt.show()"
   ]
  },
  {
   "cell_type": "markdown",
   "id": "7476d8c9",
   "metadata": {},
   "source": [
    "## Pickles"
   ]
  },
  {
   "cell_type": "code",
   "execution_count": 21,
   "id": "ccae8f27",
   "metadata": {},
   "outputs": [],
   "source": [
    "with open('pickles/df.pkl', 'wb') as f:\n",
    "    pickle.dump(df, f)"
   ]
  }
 ],
 "metadata": {
  "kernelspec": {
   "display_name": "Python 3 (ipykernel)",
   "language": "python",
   "name": "python3"
  },
  "language_info": {
   "codemirror_mode": {
    "name": "ipython",
    "version": 3
   },
   "file_extension": ".py",
   "mimetype": "text/x-python",
   "name": "python",
   "nbconvert_exporter": "python",
   "pygments_lexer": "ipython3",
   "version": "3.9.16"
  }
 },
 "nbformat": 4,
 "nbformat_minor": 5
}
