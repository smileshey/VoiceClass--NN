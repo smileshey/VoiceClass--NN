{
 "cells": [
  {
   "cell_type": "markdown",
   "id": "e6641bad",
   "metadata": {},
   "source": [
    "# Model Selection"
   ]
  },
  {
   "cell_type": "code",
   "execution_count": 4,
   "id": "b320b839",
   "metadata": {},
   "outputs": [],
   "source": [
    "import numpy as np\n",
    "import pandas as pd\n",
    "import matplotlib.pyplot as plt\n",
    "import requests\n",
    "import pickle\n",
    "import time\n",
    "import os\n",
    "import json\n",
    "import seaborn as sns\n",
    "\n",
    "from pandas import json_normalize\n",
    "from sklearn.model_selection import train_test_split, GridSearchCV\n",
    "from sklearn.pipeline import Pipeline, FeatureUnion\n",
    "from sklearn.naive_bayes import MultinomialNB\n",
    "from sklearn.linear_model import LogisticRegression\n",
    "from sklearn.metrics import confusion_matrix, ConfusionMatrixDisplay\n",
    "from sklearn.feature_extraction.text import CountVectorizer, TfidfVectorizer\n",
    "from sklearn.model_selection import train_test_split, GridSearchCV\n",
    "from sklearn.metrics import confusion_matrix, ConfusionMatrixDisplay, precision_score, recall_score, f1_score,classification_report\n",
    "from sklearn.preprocessing import normalize,StandardScaler\n",
    "from sklearn.svm import SVC,LinearSVC\n",
    "from sklearn.ensemble import RandomForestClassifier\n",
    "from sklearn.naive_bayes import BernoulliNB\n",
    "from sklearn.compose import ColumnTransformer\n",
    "\n",
    "import librosa\n",
    "from scipy.stats import skew"
   ]
  },
  {
   "cell_type": "markdown",
   "id": "d4d7c58e",
   "metadata": {},
   "source": [
    "## Data Imports"
   ]
  },
  {
   "cell_type": "code",
   "execution_count": 6,
   "id": "225da252",
   "metadata": {},
   "outputs": [],
   "source": [
    "# with open('pickles/df_resampled.pkl', 'rb') as f:\n",
    "#     df_resampled = pickle.load(f)\n",
    "    \n",
    "with open('pickles/df_model.pkl', 'rb') as f:\n",
    "    df_model = pickle.load(f)"
   ]
  },
  {
   "cell_type": "markdown",
   "id": "b4ae6db3",
   "metadata": {},
   "source": [
    "### Identifying Target Variable"
   ]
  },
  {
   "cell_type": "code",
   "execution_count": 7,
   "id": "7279e05f",
   "metadata": {},
   "outputs": [
    {
     "data": {
      "text/plain": [
       "Index(['utteranceId', 'choice', 'modelId', 'locale', 'isNative', 'lowNatural',\n",
       "       'highSynthetic', 'clean', 'listenerReliability', 'MOS', 'filename',\n",
       "       'spectral_centroids', 'spectral_bandwidth', 'spectral_contrast',\n",
       "       'zero_crossing_rate', 'chroma_cens', 'mel_spectrogram', 'mfccs_0',\n",
       "       'mfccs_1', 'mfccs_2', 'mfccs_3', 'mfccs_4', 'mfccs_5', 'mfccs_6',\n",
       "       'mfccs_7', 'mfccs_8', 'mfccs_9', 'mfccs_10', 'mfccs_11', 'mfccs_12'],\n",
       "      dtype='object')"
      ]
     },
     "execution_count": 7,
     "metadata": {},
     "output_type": "execute_result"
    }
   ],
   "source": [
    "df_model.columns"
   ]
  },
  {
   "cell_type": "code",
   "execution_count": 9,
   "id": "d14048f4",
   "metadata": {},
   "outputs": [],
   "source": [
    "drop_columns = ['modelId','choice','isNative','wrongValidation','lowNatural','sameScores','highSynthetic','clean','listenerReliability']\n",
    "keep_columns = ['mfccs_0', 'mfccs_1', 'mfccs_2', 'mfccs_3', 'mfccs_4', 'mfccs_5', 'mfccs_6', 'mfccs_7', 'mfccs_8', 'mfccs_9', 'mfccs_10', 'mfccs_11', 'mfccs_12']"
   ]
  },
  {
   "cell_type": "code",
   "execution_count": 10,
   "id": "d8e8d897",
   "metadata": {},
   "outputs": [],
   "source": [
    "X = df_model[keep_columns]\n",
    "y = df_model['modelId']"
   ]
  },
  {
   "cell_type": "markdown",
   "id": "6cc74c66",
   "metadata": {},
   "source": [
    "### Train Test Split"
   ]
  },
  {
   "cell_type": "code",
   "execution_count": 11,
   "id": "d99a6a4e",
   "metadata": {},
   "outputs": [],
   "source": [
    "X_train, X_test, y_train, y_test = train_test_split(X, y, test_size=0.2, random_state=2023)"
   ]
  },
  {
   "cell_type": "markdown",
   "id": "c5e6fc4c",
   "metadata": {},
   "source": [
    "### Scaling the Data"
   ]
  },
  {
   "cell_type": "code",
   "execution_count": 12,
   "id": "f195c152",
   "metadata": {},
   "outputs": [],
   "source": [
    "ss = StandardScaler()\n",
    "Z_train = ss.fit_transform(X_train)\n",
    "Z_test = ss.transform(X_test)"
   ]
  },
  {
   "cell_type": "markdown",
   "id": "c812b1d2",
   "metadata": {},
   "source": [
    "### Null Model\n",
    "\n",
    "Before we model our data, we need to establish a null model that we will use as a benchmark for the efficacy of our model."
   ]
  },
  {
   "cell_type": "code",
   "execution_count": 13,
   "id": "ef830c60",
   "metadata": {},
   "outputs": [
    {
     "data": {
      "text/plain": [
       "0    0.947363\n",
       "1    0.052637\n",
       "Name: modelId, dtype: float64"
      ]
     },
     "execution_count": 13,
     "metadata": {},
     "output_type": "execute_result"
    }
   ],
   "source": [
    "null_model = y.value_counts(normalize = True)\n",
    "null_model"
   ]
  },
  {
   "cell_type": "markdown",
   "id": "d0da93f6",
   "metadata": {},
   "source": [
    "From the above counts, our data is balanced and our null model indicates that the baseline accuracy is 50%"
   ]
  },
  {
   "cell_type": "code",
   "execution_count": 14,
   "id": "c6c3b5b1",
   "metadata": {},
   "outputs": [
    {
     "data": {
      "text/plain": [
       "((339208,),\n",
       " (271366,),\n",
       " (67842,),\n",
       " (271366, 13),\n",
       " (67842, 13),\n",
       " (271366, 13),\n",
       " (67842, 13))"
      ]
     },
     "execution_count": 14,
     "metadata": {},
     "output_type": "execute_result"
    }
   ],
   "source": [
    "y.shape, y_train.shape, y_test.shape, Z_train.shape, Z_test.shape, X_train.shape,X_test.shape"
   ]
  },
  {
   "cell_type": "markdown",
   "id": "84c1bd67",
   "metadata": {},
   "source": [
    "### Random Forest"
   ]
  },
  {
   "cell_type": "code",
   "execution_count": 15,
   "id": "dd85c4b3",
   "metadata": {},
   "outputs": [
    {
     "name": "stdout",
     "output_type": "stream",
     "text": [
      "              precision    recall  f1-score   support\n",
      "\n",
      "           0       1.00      1.00      1.00     64216\n",
      "           1       1.00      1.00      1.00      3626\n",
      "\n",
      "    accuracy                           1.00     67842\n",
      "   macro avg       1.00      1.00      1.00     67842\n",
      "weighted avg       1.00      1.00      1.00     67842\n",
      "\n"
     ]
    }
   ],
   "source": [
    "model_rf = RandomForestClassifier()\n",
    "model_rf.fit(Z_train,y_train)\n",
    "y_pred = model_rf.predict(Z_test)\n",
    "print(classification_report(y_test, y_pred))"
   ]
  },
  {
   "cell_type": "code",
   "execution_count": 16,
   "id": "0224d6af",
   "metadata": {},
   "outputs": [
    {
     "data": {
      "text/plain": [
       "array([0.05679109, 0.31483926, 0.10217697, 0.0594527 , 0.05830056,\n",
       "       0.05311798, 0.056626  , 0.05346142, 0.04995034, 0.04707557,\n",
       "       0.04833094, 0.05023136, 0.04964582])"
      ]
     },
     "execution_count": 16,
     "metadata": {},
     "output_type": "execute_result"
    }
   ],
   "source": [
    "importances = RandomForestClassifier().fit(Z_train, y_train).feature_importances_\n",
    "importances"
   ]
  },
  {
   "cell_type": "code",
   "execution_count": 17,
   "id": "7a0cdefa",
   "metadata": {},
   "outputs": [
    {
     "data": {
      "image/png": "[encoded data removed]",
      "text/plain": [
       "<Figure size 640x480 with 1 Axes>"
      ]
     },
     "metadata": {},
     "output_type": "display_data"
    }
   ],
   "source": [
    "plt.barh(X.columns, importances)\n",
    "plt.xlabel('Importance')\n",
    "plt.ylabel('Feature')\n",
    "plt.title('Feature Importances')\n",
    "plt.show()"
   ]
  },
  {
   "cell_type": "markdown",
   "id": "1e10f475",
   "metadata": {},
   "source": [
    "###########From the above plot, we see that Mean Opinion Score (MOS) is the most important feature for this specific dataset. MOS is a value that was reported by each individual listener that was reponsible for quality checking the data before it was modelled.\n",
    "\n",
    "This value tells us the quality of the individual recording, however, because we are interesting in determining whether or not it is possible to determine if a audio signal is human or generated, we'll drop this feature.\n",
    "\n",
    "It is worth noting that the importance of MOS indicates that it is feasible for the human ear to determine if a voice is generated or human."
   ]
  },
  {
   "cell_type": "code",
   "execution_count": null,
   "id": "bc9ef3f7",
   "metadata": {},
   "outputs": [],
   "source": [
    "corr_matrix = df_metrics_re.corr()\n",
    "print(corr_matrix)"
   ]
  },
  {
   "cell_type": "code",
   "execution_count": null,
   "id": "8625aa2f",
   "metadata": {},
   "outputs": [],
   "source": [
    "sns.heatmap(corr_matrix, annot=False);"
   ]
  },
  {
   "cell_type": "code",
   "execution_count": null,
   "id": "0bc59ac5",
   "metadata": {},
   "outputs": [],
   "source": []
  },
  {
   "cell_type": "code",
   "execution_count": null,
   "id": "9a8dddfe",
   "metadata": {},
   "outputs": [],
   "source": []
  },
  {
   "cell_type": "code",
   "execution_count": null,
   "id": "a9a5a2f9",
   "metadata": {},
   "outputs": [],
   "source": [
    "df_resampled.columns"
   ]
  },
  {
   "cell_type": "code",
   "execution_count": null,
   "id": "0ca7e93f",
   "metadata": {},
   "outputs": [],
   "source": [
    "drop_columns = ['modelId','choice','isNative','wrongValidation','lowNatural','sameScores','highSynthetic','clean','listenerReliability','MOS','min_mfccs','max_spectral_centroids','mean_spectral_contrast']\n",
    "keep_columns = ['chroma_cens','zero_crossing_rate','mean_spectral_bandwidth']"
   ]
  },
  {
   "cell_type": "code",
   "execution_count": null,
   "id": "9a77421c",
   "metadata": {},
   "outputs": [],
   "source": [
    "X = df_resampled[keep_columns]\n",
    "y = df_resampled['modelId']\n",
    "X.shape"
   ]
  },
  {
   "cell_type": "code",
   "execution_count": null,
   "id": "1ba48a62",
   "metadata": {},
   "outputs": [],
   "source": [
    "X_train, X_test, y_train, y_test = train_test_split(X, y, test_size=0.2, random_state=2023)"
   ]
  },
  {
   "cell_type": "code",
   "execution_count": null,
   "id": "0d0bc335",
   "metadata": {},
   "outputs": [],
   "source": [
    "ss = StandardScaler()\n",
    "Z_train = ss.fit_transform(X_train)\n",
    "Z_test = ss.transform(X_test)"
   ]
  },
  {
   "cell_type": "code",
   "execution_count": null,
   "id": "e6bdb449",
   "metadata": {},
   "outputs": [],
   "source": [
    "model_rf = RandomForestClassifier()\n",
    "model_rf.fit(Z_train,y_train)\n",
    "model_rf.score(Z_test,y_test)"
   ]
  },
  {
   "cell_type": "code",
   "execution_count": null,
   "id": "6e4f3a28",
   "metadata": {},
   "outputs": [],
   "source": []
  },
  {
   "cell_type": "code",
   "execution_count": null,
   "id": "b934aec5",
   "metadata": {},
   "outputs": [],
   "source": [
    "importances = RandomForestClassifier().fit(Z_train, y_train).feature_importances_"
   ]
  },
  {
   "cell_type": "code",
   "execution_count": null,
   "id": "3dd48b79",
   "metadata": {},
   "outputs": [],
   "source": [
    "plt.barh(X.columns, importances)\n",
    "plt.xlabel('Importance')\n",
    "plt.ylabel('Feature')\n",
    "plt.title('Feature Importances')\n",
    "plt.show()"
   ]
  },
  {
   "cell_type": "code",
   "execution_count": null,
   "id": "ab224204",
   "metadata": {},
   "outputs": [],
   "source": []
  },
  {
   "cell_type": "code",
   "execution_count": null,
   "id": "d046d580",
   "metadata": {},
   "outputs": [],
   "source": []
  }
 ],
 "metadata": {
  "kernelspec": {
   "display_name": "Python 3 (ipykernel)",
   "language": "python",
   "name": "python3"
  },
  "language_info": {
   "codemirror_mode": {
    "name": "ipython",
    "version": 3
   },
   "file_extension": ".py",
   "mimetype": "text/x-python",
   "name": "python",
   "nbconvert_exporter": "python",
   "pygments_lexer": "ipython3",
   "version": "3.9.16"
  }
 },
 "nbformat": 4,
 "nbformat_minor": 5
}
